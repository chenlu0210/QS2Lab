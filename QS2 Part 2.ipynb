{
 "cells": [
  {
   "cell_type": "markdown",
   "metadata": {},
   "source": [
    "Lab 2\n",
    "\n",
    "This lab will focus on the Jaynes-Cumming Model (JCM) used to describe the interaction between a  single electromagnetic mode and a two-levelsystem (TLS) confined in a cavity.\n",
    "\n",
    "The JCM was introduced in lecture 3 of QS2 Part 4 when describing a superconducting qubit coupled to a microwavecavity.  In this set of exercises you will explore the relation between the qubit-cavity detuning ($\\Delta$), controlled by an external parameter such as flux or gate voltage, the qubit-cavity coupling rate (g), and the losses in the qubit ($\\gamma$) andcavity ($\\kappa$)."
   ]
  },
  {
   "cell_type": "markdown",
   "metadata": {},
   "source": [
    "Import qutip and other packages"
   ]
  },
  {
   "cell_type": "code",
   "execution_count": 1,
   "metadata": {},
   "outputs": [],
   "source": [
    "# setup the matplotlib graphics library and configure it to show \n",
    "# figures inline in the notebook\n",
    "%matplotlib inline\n",
    "import matplotlib.pyplot as plt\n",
    "import numpy as np\n",
    "from numpy import sqrt as sqrt\n",
    "from numpy import pi as pi\n",
    "\n",
    "# make qutip available in the rest of the notebook\n",
    "from qutip import *"
   ]
  },
  {
   "cell_type": "markdown",
   "metadata": {},
   "source": [
    "# Exercise 1"
   ]
  },
  {
   "cell_type": "markdown",
   "metadata": {},
   "source": [
    "Create a general system based on the Jaynes-Cumming model, evolve the\n",
    "state and visualize the results.\n",
    "[QuTiP Lecture 1 - JCM](https://nbviewer.ipython.org/github/jrjohansson/qutip-lectures/blob/master/Lecture-1-Jaynes-Cumming-model.ipynb)"
   ]
  },
  {
   "cell_type": "markdown",
   "metadata": {},
   "source": [
    "## General JCM"
   ]
  },
  {
   "cell_type": "markdown",
   "metadata": {},
   "source": [
    "Use the following parameters to create a system based on the general JCM.\n",
    "\n",
    "The hamiltonian for this system is:\n",
    "$H = \\hbar\\omega_c a^\\dagger a + \\frac{1}{2}\\hbar\\omega_a \\sigma_z + \\hbar g\\left(a^{\\dagger}+a\\right)\\left(\\sigma_{-}+\\sigma_{+}\\right)$\n",
    "\n",
    "[QuTiP Quantum Operators](https://qutip.org/docs/latest/apidoc/functions.html?highlight=qutip%20operators#module-qutip.operators)"
   ]
  },
  {
   "cell_type": "code",
   "execution_count": 2,
   "metadata": {},
   "outputs": [],
   "source": [
    "fc = 1.0            # cavity frequency\n",
    "fa = 1.0            # atom frequency\n",
    "g  = 0.05           # coupling strength\n",
    "kappa = 0.005       # cavity dissipation rate\n",
    "gamma = 0.05        # atom dissipation rate\n",
    "N = 15              # number of cavity fock states\n",
    "n_th_a = 0.0        # avg number of thermal bath excitation"
   ]
  },
  {
   "cell_type": "markdown",
   "metadata": {
    "solution": "hidden"
   },
   "source": [
    "Type your codes here"
   ]
  },
  {
   "cell_type": "code",
   "execution_count": null,
   "metadata": {
    "solution2": "hidden",
    "solution2_first": true
   },
   "outputs": [],
   "source": []
  },
  {
   "cell_type": "code",
   "execution_count": 3,
   "metadata": {
    "hide_input": false,
    "solution": "hidden",
    "solution2": "hidden"
   },
   "outputs": [],
   "source": [
    "# operators\n",
    "a  = tensor(destroy(N), qeye(2))\n",
    "sm = tensor(qeye(N), destroy(2))\n",
    "\n",
    "\n",
    "# Hamiltonian\n",
    "H = fc * a.dag() * a + fa * sm.dag() * sm + g * (a.dag() + a) * (sm + sm.dag())"
   ]
  },
  {
   "cell_type": "markdown",
   "metadata": {
    "solution": "hidden"
   },
   "source": [
    "## Collapse Operators"
   ]
  },
  {
   "cell_type": "markdown",
   "metadata": {},
   "source": [
    "Create the collapse operators from the losses ($\\gamma$, $\\kappa$ and $\\bar{n}$) in the system. <br>\n",
    "\n",
    "Remember in the session 1, you have created the collapse operators for harmonic oscillator. In this exercise, you not only need to consider the cavity (harmonic oscillator) but also the atom-like state. For the atom-like state, the collapse operator is given by $\\sqrt{\\gamma}\\sigma_{-}$."
   ]
  },
  {
   "cell_type": "markdown",
   "metadata": {},
   "source": [
    "Type your result here"
   ]
  },
  {
   "cell_type": "code",
   "execution_count": null,
   "metadata": {
    "solution2": "hidden",
    "solution2_first": true
   },
   "outputs": [],
   "source": []
  },
  {
   "cell_type": "code",
   "execution_count": 54,
   "metadata": {
    "solution": "hidden",
    "solution2": "hidden"
   },
   "outputs": [],
   "source": [
    "c_ops = []\n",
    "\n",
    "# cavity relaxation\n",
    "rate = kappa * (1 + n_th_a)\n",
    "if rate > 0.0:\n",
    "    c_ops.append(sqrt(rate) * a)\n",
    "\n",
    "# cavity excitation, if temperature > 0\n",
    "rate = kappa * n_th_a\n",
    "if rate > 0.0:\n",
    "    c_ops.append(sqrt(rate) * a.dag())\n",
    "\n",
    "# qubit relaxation\n",
    "rate = gamma\n",
    "if rate > 0.0:\n",
    "    c_ops.append(sqrt(rate) * sm)"
   ]
  },
  {
   "cell_type": "markdown",
   "metadata": {},
   "source": [
    "## Evolve the system"
   ]
  },
  {
   "cell_type": "markdown",
   "metadata": {},
   "source": [
    "Use the built-in function [mesolve](https://qutip.org/docs/latest/apidoc/functions.html?highlight=mesolve#module-qutip.mesolve) to simulate how the system evolve from a user-defined initial state looking at the expectation values of $a^{\\dagger}a$ and $\\sigma_{+}\\sigma_{-}$"
   ]
  },
  {
   "cell_type": "markdown",
   "metadata": {},
   "source": [
    "Type your codes here"
   ]
  },
  {
   "cell_type": "code",
   "execution_count": null,
   "metadata": {
    "solution2": "hidden",
    "solution2_first": true
   },
   "outputs": [],
   "source": []
  },
  {
   "cell_type": "code",
   "execution_count": 58,
   "metadata": {
    "solution": "hidden",
    "solution2": "hidden"
   },
   "outputs": [],
   "source": [
    "tlist = np.linspace(0,100,101)\n",
    "\n",
    "# intial state\n",
    "psi0 = tensor(basis(N,0), basis(2,1))    # start with an excited atom\n",
    "\n",
    "output = mesolve(H, psi0, tlist, c_ops, [a.dag() * a, sm.dag() * sm])\n",
    "\n",
    "n_c = output.expect[0]\n",
    "n_a = output.expect[1]"
   ]
  },
  {
   "cell_type": "markdown",
   "metadata": {},
   "source": [
    "Visualise the excitation probabilities"
   ]
  },
  {
   "cell_type": "markdown",
   "metadata": {},
   "source": [
    "Type your codes here"
   ]
  },
  {
   "cell_type": "code",
   "execution_count": null,
   "metadata": {
    "solution2": "hidden",
    "solution2_first": true
   },
   "outputs": [],
   "source": []
  },
  {
   "cell_type": "code",
   "execution_count": 59,
   "metadata": {
    "scrolled": true,
    "solution": "hidden",
    "solution2": "hidden"
   },
   "outputs": [
    {
     "data": {
      "text/plain": [
       "Text(0.5, 1.0, 'Vacuum Rabi oscillations')"
      ]
     },
     "execution_count": 59,
     "metadata": {},
     "output_type": "execute_result"
    },
    {
     "data": {
      "image/png": "[encoded data removed]",
      "text/plain": [
       "<Figure size 720x432 with 1 Axes>"
      ]
     },
     "metadata": {
      "needs_background": "light"
     },
     "output_type": "display_data"
    }
   ],
   "source": [
    "fig, axes = plt.subplots(1, 1, figsize=(10,6))\n",
    "\n",
    "axes.plot(tlist, n_c, label=\"Cavity\")\n",
    "axes.plot(tlist, n_a, label=\"Atom excited state\")\n",
    "axes.legend(loc=0)\n",
    "axes.set_xlabel('Time')\n",
    "axes.set_ylabel('Occupation probability')\n",
    "axes.set_title('Vacuum Rabi oscillations')"
   ]
  },
  {
   "cell_type": "markdown",
   "metadata": {},
   "source": [
    "Now vary the losses of the system, explore how the excitation probabilities change."
   ]
  },
  {
   "cell_type": "code",
   "execution_count": null,
   "metadata": {},
   "outputs": [],
   "source": []
  },
  {
   "cell_type": "markdown",
   "metadata": {},
   "source": [
    "# Exercise 2"
   ]
  },
  {
   "cell_type": "markdown",
   "metadata": {},
   "source": [
    "(i) Construct the single-junction Cooper Pair Box qubit Hamiltonian in \n",
    "QuTiP. <br>\n",
    "(ii) Plot the single-junction CPB qubit spectrum as a function of offset\n",
    "charge for different ${E_j}/{E_c}$ ratios. <br>\n",
    "(iii) Modify the qubit hamiltonian for split-junction CPB and calculate\n",
    "the transition energy $E_{01}$ as a function of applied flux. <br>\n",
    "[QuTiP Lecture 11 - Charge Qubits](https://nbviewer.ipython.org/github/jrjohansson/qutip-lectures/blob/master/Lecture-11-Charge-Qubits.ipynb)"
   ]
  },
  {
   "cell_type": "markdown",
   "metadata": {},
   "source": [
    "## Single-junction CPB Hamiltonian"
   ]
  },
  {
   "cell_type": "markdown",
   "metadata": {},
   "source": [
    "The single-junction CPB qubit hamiltonian is given by: <br>\n",
    "$\\hat{H} = 4E_C\\left(\\hat{n}-n_g\\right)^2-E_J\\textrm{cos}\\hat{\\phi}$"
   ]
  },
  {
   "cell_type": "markdown",
   "metadata": {},
   "source": [
    "Write a function that returns the qubit hamiltonian from given parameters $E_C$, $E_J$ and $n_g$. You will also need to define the charge space dimensions that the system will be evaluated in."
   ]
  },
  {
   "cell_type": "markdown",
   "metadata": {},
   "source": [
    "Type your codes here"
   ]
  },
  {
   "cell_type": "code",
   "execution_count": null,
   "metadata": {
    "solution2": "hidden",
    "solution2_first": true
   },
   "outputs": [],
   "source": []
  },
  {
   "cell_type": "code",
   "execution_count": 2,
   "metadata": {
    "solution": "hidden",
    "solution2": "hidden"
   },
   "outputs": [],
   "source": [
    "def hamiltonian(Ec, Ej, N, ng):\n",
    "    c = charge(N) - qeye(2*N+1)*ng\n",
    "    m = 4 * Ec * c * c - Qobj(0.5 * Ej * (np.diag(np.ones(2*N), 1) + np.diag(np.ones(2*N), -1)))\n",
    "    return m\n",
    "\n",
    "def hamiltonian(Ec, Ej, N, ng):\n",
    "    \n",
    "    m = np.diag(4 * Ec * (np.arange(-N,N+1)-ng)**2) + 0.5 * Ej * (np.diag(-np.ones(2*N), 1) + \n",
    "                                                               np.diag(-np.ones(2*N), -1))\n",
    "    return Qobj(m)"
   ]
  },
  {
   "cell_type": "markdown",
   "metadata": {},
   "source": [
    "Check if your hamiltonian is hermitian using [isherm](https://qutip.org/docs/latest/apidoc/functions.html?highlight=isherm#qutip.qobj.isherm)"
   ]
  },
  {
   "cell_type": "code",
   "execution_count": null,
   "metadata": {},
   "outputs": [],
   "source": []
  },
  {
   "cell_type": "markdown",
   "metadata": {},
   "source": [
    "## Plot single-junction CPB spectrum"
   ]
  },
  {
   "cell_type": "markdown",
   "metadata": {},
   "source": [
    "Given $E_C=230MHz$, $E_J=500MHz$ and $N=10$, solve the qubit's eigenenergies and plot the qubit spectrum as a function of $n_g$"
   ]
  },
  {
   "cell_type": "markdown",
   "metadata": {},
   "source": [
    "Type your codes here"
   ]
  },
  {
   "cell_type": "code",
   "execution_count": null,
   "metadata": {
    "solution2": "hidden",
    "solution2_first": true
   },
   "outputs": [],
   "source": []
  },
  {
   "cell_type": "code",
   "execution_count": 78,
   "metadata": {
    "scrolled": true,
    "solution": "hidden",
    "solution2": "hidden"
   },
   "outputs": [
    {
     "data": {
      "image/png": "[encoded data removed]",
      "text/plain": [
       "<Figure size 576x432 with 1 Axes>"
      ]
     },
     "metadata": {
      "needs_background": "light"
     },
     "output_type": "display_data"
    }
   ],
   "source": [
    "N = 10\n",
    "Ej = 500e6\n",
    "Ec = 230e6\n",
    "\n",
    "ng_vec = np.linspace(-4, 4, 200)\n",
    "\n",
    "# Define plot function\n",
    "def plot_energies(ng_vec, energies, levels=10):\n",
    "    \"\"\"\n",
    "    Plot energy levels as a function of bias parameter ng_vec.\n",
    "    \"\"\"\n",
    "    fig, ax = plt.subplots(figsize=(8,6))\n",
    "\n",
    "    for n in range(len(energies[0,0:levels])):\n",
    "        ax.plot(ng_vec, energies[:,n])\n",
    "    #ax.set_ylim(ymax[0], ymax[1])\n",
    "    ax.set_xlabel(r'$n_g$', fontsize=18)\n",
    "    ax.set_ylabel(r'$E_n$', fontsize=18)\n",
    "    \n",
    "energies = np.array(np.real([hamiltonian(Ec, Ej, N, ng).eigenenergies() for ng in ng_vec]))\n",
    "plot_energies(ng_vec, energies, levels=5);"
   ]
  },
  {
   "cell_type": "markdown",
   "metadata": {},
   "source": [
    "Now vary $E_J$ and check how the qubit spectrum changes as you increase $E_J$"
   ]
  },
  {
   "cell_type": "code",
   "execution_count": null,
   "metadata": {},
   "outputs": [],
   "source": []
  },
  {
   "cell_type": "markdown",
   "metadata": {},
   "source": [
    "Write a function that extracts the $E_{01}$ transition at given $n_g$"
   ]
  },
  {
   "cell_type": "code",
   "execution_count": null,
   "metadata": {
    "solution2": "hidden",
    "solution2_first": true
   },
   "outputs": [],
   "source": []
  },
  {
   "cell_type": "code",
   "execution_count": 79,
   "metadata": {
    "solution": "hidden",
    "solution2": "hidden"
   },
   "outputs": [],
   "source": [
    "def fq(Ec, Ej, N, ng):\n",
    "    energies = hamiltonian(Ec, Ej, N, ng).eigenenergies()\n",
    "    return energies[1]-energies[0]"
   ]
  },
  {
   "cell_type": "markdown",
   "metadata": {},
   "source": [
    "Compare your simulated $E_{01}$ to the expression $\\sqrt{8E_C E_J}$ when $E_J\\gg E_C$"
   ]
  },
  {
   "cell_type": "code",
   "execution_count": null,
   "metadata": {},
   "outputs": [],
   "source": []
  },
  {
   "cell_type": "markdown",
   "metadata": {},
   "source": [
    "## Split-junction CPB"
   ]
  },
  {
   "cell_type": "markdown",
   "metadata": {},
   "source": [
    "Now if you include split-junction instead of a single junction in the CPB qubit, $E_J$ becomes flux-tunable. As a result, the qubit becomes flux-tunable as well. <br>\n",
    "\n",
    "Given $E_J\\left(\\Phi\\right) = E_{J}\\sqrt{\\textrm{cos}^2\\left(\\frac{\\pi\\Phi}{\\Phi_0}\\right)+d^2\\textrm{sin}^2\\left(\\frac{\\pi\\Phi}{\\Phi_0}\\right)}$, modify your function of $E_{01}$ to include the flux tunability."
   ]
  },
  {
   "cell_type": "markdown",
   "metadata": {},
   "source": [
    "Type your codes here"
   ]
  },
  {
   "cell_type": "code",
   "execution_count": null,
   "metadata": {
    "solution2": "hidden",
    "solution2_first": true
   },
   "outputs": [],
   "source": []
  },
  {
   "cell_type": "code",
   "execution_count": 92,
   "metadata": {
    "solution": "hidden",
    "solution2": "hidden"
   },
   "outputs": [],
   "source": [
    "def E_j(Ej0, flux, d):\n",
    "    phase = flux*2*np.pi\n",
    "    return Ej0*np.sqrt(np.cos(phase/2)**2+d**2*np.sin(phase/2)**2)\n",
    "\n",
    "def qubit_hamiltonian(Ec, Ej0, N, ng, flux, d):\n",
    "    \"\"\"\n",
    "    Return the charge qubit hamiltonian as a Qobj instance.\n",
    "    \"\"\"\n",
    "    m = np.diag(4 * Ec * (np.arange(-N,N+1)-ng)**2) + 0.5 * E_j(Ej0,flux,d) * (np.diag(-np.ones(2*N), 1) + \n",
    "                                                               np.diag(-np.ones(2*N), -1))\n",
    "    return Qobj(m)\n",
    "\n",
    "def fq(Ec, Ej0, N, ng, flux, d):\n",
    "    energies = qubit_hamiltonian(Ec, Ej0, N, ng, flux, d).eigenenergies()\n",
    "    return energies[1]-energies[0]"
   ]
  },
  {
   "cell_type": "markdown",
   "metadata": {},
   "source": [
    "Given $d=0$ and $n_g=0$, plot $E_{01}$ as a function of applied flux $\\Phi$"
   ]
  },
  {
   "cell_type": "markdown",
   "metadata": {},
   "source": [
    "Type your codes here"
   ]
  },
  {
   "cell_type": "code",
   "execution_count": null,
   "metadata": {
    "solution2": "hidden",
    "solution2_first": true
   },
   "outputs": [],
   "source": []
  },
  {
   "cell_type": "code",
   "execution_count": 104,
   "metadata": {
    "solution": "hidden",
    "solution2": "hidden"
   },
   "outputs": [
    {
     "data": {
      "text/plain": [
       "[<matplotlib.lines.Line2D at 0x7f8eca928790>]"
      ]
     },
     "execution_count": 104,
     "metadata": {},
     "output_type": "execute_result"
    },
    {
     "data": {
      "image/png": "[encoded data removed]",
      "text/plain": [
       "<Figure size 576x432 with 1 Axes>"
      ]
     },
     "metadata": {
      "needs_background": "light"
     },
     "output_type": "display_data"
    }
   ],
   "source": [
    "d = 0\n",
    "Ec = 230e6\n",
    "Ej = 50e9\n",
    "d = 0\n",
    "flux_vec = np.linspace(-1,1,101)\n",
    "fq_vec = [fq(Ec, Ej, N, 0, flux, d) for flux in flux_vec]\n",
    "fig, ax = plt.subplots(figsize=(8,6))\n",
    "ax.plot(flux_vec, fq_vec)"
   ]
  },
  {
   "cell_type": "markdown",
   "metadata": {},
   "source": [
    "Varying d and see how the flux tuneability depends on the asymmetry factor."
   ]
  },
  {
   "cell_type": "code",
   "execution_count": null,
   "metadata": {},
   "outputs": [],
   "source": []
  },
  {
   "cell_type": "markdown",
   "metadata": {},
   "source": [
    "# Exercise 3"
   ]
  },
  {
   "cell_type": "markdown",
   "metadata": {},
   "source": [
    "(i) Create the system where a split-junction CPB qubit is coupled to a\n",
    "cavity. <br>\n",
    "(ii)  Using the built-in function \"spectrum\" to simulate spectroscopic\n",
    "measurements on the system."
   ]
  },
  {
   "cell_type": "markdown",
   "metadata": {},
   "source": [
    "## Qubit-cavity coupling"
   ]
  },
  {
   "cell_type": "markdown",
   "metadata": {},
   "source": [
    "Given $E_J=50GHz$, $E_C=230MHz$, $d=0$, $n_g=0$, $g=80MHz$, $f_c=6GHz$, $\\kappa=1e6$, $\\gamma=1000e6$, $n_{th}=0.1$, use the JCM model and $E_{01}$ function constructed in the previous exercises, create a system where a split-junction CPB is coupled to a cavity"
   ]
  },
  {
   "cell_type": "markdown",
   "metadata": {},
   "source": [
    "Type your codes here"
   ]
  },
  {
   "cell_type": "code",
   "execution_count": null,
   "metadata": {
    "solution2": "hidden",
    "solution2_first": true
   },
   "outputs": [],
   "source": []
  },
  {
   "cell_type": "code",
   "execution_count": 107,
   "metadata": {
    "solution": "hidden",
    "solution2": "hidden"
   },
   "outputs": [],
   "source": [
    "Nc = 15\n",
    "Nq = 10\n",
    "Ec = 230e6\n",
    "Ej = 50e9\n",
    "d = 0\n",
    "fc = 6e9\n",
    "g = 80e6\n",
    "\n",
    "kappa = 1e6 \n",
    "gamma = 1000e6\n",
    "\n",
    "# operators\n",
    "a  = tensor(destroy(Nc), qeye(2))\n",
    "sm = tensor(qeye(Nc), destroy(2))\n",
    "\n",
    "# Hamiltonian\n",
    "def qubit_cavity(flux):\n",
    "    H = fc * a.dag() * a + fq(Ec, Ej, Nq, 0, flux, d) * sm.dag() * sm + g * (a.dag() + a) * (sm + sm.dag())\n",
    "    return H"
   ]
  },
  {
   "cell_type": "markdown",
   "metadata": {},
   "source": [
    "## Absorption spectrum"
   ]
  },
  {
   "cell_type": "markdown",
   "metadata": {},
   "source": [
    "In cQED experiments we typically measure the absorption spectrum of the cavity in order to detect the qubit-cavity coupling. <br>\n",
    "\n",
    "Assuming we are sweeping around the cavity frequency (say from 5.995GHz to 6.005GHz) while varying the applied flux $\\Phi$, use the built-in function [spectrum](https://qutip.org/docs/latest/apidoc/functions.html?highlight=spectrum#qutip.correlation.spectrum)  in QuTiP to simulate the experimental outcome "
   ]
  },
  {
   "cell_type": "markdown",
   "metadata": {},
   "source": [
    "Type your codes here"
   ]
  },
  {
   "cell_type": "code",
   "execution_count": null,
   "metadata": {
    "solution2": "hidden",
    "solution2_first": true
   },
   "outputs": [],
   "source": []
  },
  {
   "cell_type": "code",
   "execution_count": 101,
   "metadata": {
    "solution": "hidden",
    "solution2": "hidden"
   },
   "outputs": [
    {
     "name": "stderr",
     "output_type": "stream",
     "text": [
      "/Users/lulu/opt/anaconda3/lib/python3.7/site-packages/qutip/essolve.py:160: LinAlgWarning: Ill-conditioned matrix (rcond=3.65847e-18): result may not be accurate.\n",
      "  v0 = la.solve(v, r0)\n",
      "/Users/lulu/opt/anaconda3/lib/python3.7/site-packages/qutip/essolve.py:160: LinAlgWarning: Ill-conditioned matrix (rcond=3.67765e-18): result may not be accurate.\n",
      "  v0 = la.solve(v, r0)\n",
      "/Users/lulu/opt/anaconda3/lib/python3.7/site-packages/qutip/essolve.py:160: LinAlgWarning: Ill-conditioned matrix (rcond=3.53833e-18): result may not be accurate.\n",
      "  v0 = la.solve(v, r0)\n",
      "/Users/lulu/opt/anaconda3/lib/python3.7/site-packages/qutip/essolve.py:160: LinAlgWarning: Ill-conditioned matrix (rcond=3.76642e-18): result may not be accurate.\n",
      "  v0 = la.solve(v, r0)\n",
      "/Users/lulu/opt/anaconda3/lib/python3.7/site-packages/qutip/essolve.py:160: LinAlgWarning: Ill-conditioned matrix (rcond=3.76642e-18): result may not be accurate.\n",
      "  v0 = la.solve(v, r0)\n",
      "/Users/lulu/opt/anaconda3/lib/python3.7/site-packages/qutip/essolve.py:160: LinAlgWarning: Ill-conditioned matrix (rcond=3.75164e-18): result may not be accurate.\n",
      "  v0 = la.solve(v, r0)\n",
      "/Users/lulu/opt/anaconda3/lib/python3.7/site-packages/qutip/essolve.py:160: LinAlgWarning: Ill-conditioned matrix (rcond=3.67765e-18): result may not be accurate.\n",
      "  v0 = la.solve(v, r0)\n",
      "/Users/lulu/opt/anaconda3/lib/python3.7/site-packages/qutip/essolve.py:160: LinAlgWarning: Ill-conditioned matrix (rcond=3.65847e-18): result may not be accurate.\n",
      "  v0 = la.solve(v, r0)\n"
     ]
    },
    {
     "data": {
      "text/plain": [
       "<matplotlib.colorbar.Colorbar at 0x7f8e907f39d0>"
      ]
     },
     "execution_count": 101,
     "metadata": {},
     "output_type": "execute_result"
    },
    {
     "data": {
      "image/png": "[encoded data removed]",
      "text/plain": [
       "<Figure size 432x288 with 2 Axes>"
      ]
     },
     "metadata": {
      "needs_background": "light"
     },
     "output_type": "display_data"
    }
   ],
   "source": [
    "flux_vec = np.linspace(-1,1,101)\n",
    "n_th = 0.1\n",
    "wlist = np.linspace(5.995e9, 6.005e9, 201)\n",
    "spec = np.zeros((len(flux_vec), len(wlist)))\n",
    "\n",
    "\n",
    "i = 0\n",
    "for flux in flux_vec:\n",
    "    H = qubit_cavity(flux)\n",
    "    \n",
    "    n_th = 0.1 # finite bath temp in terms of excitation number\n",
    "    c_ops = [np.sqrt(kappa * (1 + n_th)) * a, np.sqrt(kappa * n_th) * a.dag(), np.sqrt(gamma) * sm]\n",
    "\n",
    "    spec[i,:] = spectrum(H, wlist, c_ops, a.dag(), a) \n",
    "    i = i+1\n",
    "    \n",
    "\n",
    "#plot the spectrum\n",
    "FreqMesh, ControlMesh = np.meshgrid(wlist, flux_vec);\n",
    "fig1, ax1 = plt.subplots()\n",
    "cs = ax1.contourf(ControlMesh,FreqMesh/1e9,1-spec/np.max(spec),50, cmap='hot');\n",
    "ax1.set_xlabel('Flux ($\\Phi/\\Phi_0$)')\n",
    "ax1.set_ylabel('S21 Frequency (GHz)')\n",
    "plt.colorbar(cs)"
   ]
  },
  {
   "cell_type": "markdown",
   "metadata": {},
   "source": [
    "Now change the value of the asymmetry factor d such that no matter what flux you applied, the qubit frequency is always above the cavity frequency. Simulate the absorption spectrum again and see what it looks like now."
   ]
  },
  {
   "cell_type": "code",
   "execution_count": null,
   "metadata": {
    "solution2": "hidden",
    "solution2_first": true
   },
   "outputs": [],
   "source": []
  },
  {
   "cell_type": "code",
   "execution_count": 105,
   "metadata": {
    "solution": "hidden",
    "solution2": "hidden"
   },
   "outputs": [
    {
     "data": {
      "text/plain": [
       "<matplotlib.colorbar.Colorbar at 0x7f8e88817e90>"
      ]
     },
     "execution_count": 105,
     "metadata": {},
     "output_type": "execute_result"
    },
    {
     "data": {
      "image/png": "[encoded data removed]",
      "text/plain": [
       "<Figure size 432x288 with 2 Axes>"
      ]
     },
     "metadata": {
      "needs_background": "light"
     },
     "output_type": "display_data"
    }
   ],
   "source": [
    "d = 0.5\n",
    "\n",
    "flux_vec = np.linspace(-1,1,101)\n",
    "n_th = 0.1\n",
    "wlist = np.linspace(5.995e9, 6.005e9, 201)\n",
    "spec = np.zeros((len(flux_vec), len(wlist)))\n",
    "\n",
    "\n",
    "i = 0\n",
    "for flux in flux_vec:\n",
    "    H = qubit_cavity(flux)\n",
    "    \n",
    "    n_th = 0.1 # finite bath temp in terms of excitation number\n",
    "    c_ops = [np.sqrt(kappa * (1 + n_th)) * a, np.sqrt(kappa * n_th) * a.dag(), np.sqrt(gamma) * sm]\n",
    "\n",
    "    spec[i,:] = spectrum(H, wlist, c_ops, a.dag(), a) \n",
    "    i = i+1\n",
    "    \n",
    "\n",
    "#plot the spectrum\n",
    "FreqMesh, ControlMesh = np.meshgrid(wlist, flux_vec);\n",
    "fig1, ax1 = plt.subplots()\n",
    "cs = ax1.contourf(ControlMesh,FreqMesh/1e9,1-spec/np.max(spec),50, cmap='hot');\n",
    "ax1.set_xlabel('Flux ($\\Phi/\\Phi_0$)')\n",
    "ax1.set_ylabel('S21 Frequency (GHz)')\n",
    "plt.colorbar(cs)"
   ]
  }
 ],
 "metadata": {
  "kernelspec": {
   "display_name": "Python 3",
   "language": "python",
   "name": "python3"
  },
  "language_info": {
   "codemirror_mode": {
    "name": "ipython",
    "version": 3
   },
   "file_extension": ".py",
   "mimetype": "text/x-python",
   "name": "python",
   "nbconvert_exporter": "python",
   "pygments_lexer": "ipython3",
   "version": "3.7.6"
  },
  "toc": {
   "base_numbering": 1,
   "nav_menu": {},
   "number_sections": true,
   "sideBar": true,
   "skip_h1_title": false,
   "title_cell": "Table of Contents",
   "title_sidebar": "Contents",
   "toc_cell": false,
   "toc_position": {},
   "toc_section_display": true,
   "toc_window_display": true
  }
 },
 "nbformat": 4,
 "nbformat_minor": 4
}
